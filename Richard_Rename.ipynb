{
 "cells": [
  {
   "cell_type": "raw",
   "metadata": {},
   "source": []
  },
  {
   "cell_type": "code",
   "execution_count": 17,
   "metadata": {},
   "outputs": [],
   "source": [
    "import os\n",
    "import cv2\n",
    "import shutil\n",
    "import requests\n",
    "from configparser import ConfigParser\n",
    "from sklearn.model_selection import train_test_split as sk"
   ]
  },
  {
   "cell_type": "markdown",
   "metadata": {},
   "source": [
    "# Config"
   ]
  },
  {
   "cell_type": "code",
   "execution_count": 18,
   "metadata": {
    "scrolled": true
   },
   "outputs": [],
   "source": [
    "parser = ConfigParser()\n",
    "parser.read('dev.ini')\n",
    "#print(parser.sections())\n",
    "#parser.options('settings')\n",
    "end_folder_name = parser.get('settings', 'dest_name')\n",
    "create_folder = parser.getboolean('settings', 'create_folder', fallback = True)\n",
    "path= parser.get('settings', 'path', fallback = os.getcwd()) #+ '\\\\' + end_folder_name\n",
    "th = parser.getint('settings', 'size_treshold', fallback = 9999)\n",
    "timeout = parser.getint('settings', 'timeout', fallback = 20)\n",
    "clean_src = parser.getboolean('settings', 'clean_src', fallback = False)\n",
    "neuron_number = parser.getint('settings', 'neuron_number', fallback = 0)\n",
    "train_split = parser.getfloat('settings', 'train_split' , fallback = 0.7)\n",
    "val_split = parser.getfloat('settings', 'val_split' , fallback = 0.1)\n",
    "test_split = parser.getfloat('settings', 'test_split' , fallback = 0.2)"
   ]
  },
  {
   "cell_type": "code",
   "execution_count": 19,
   "metadata": {},
   "outputs": [
    {
     "data": {
      "text/plain": [
       "'C:\\\\Users\\\\Julian\\\\Documents\\\\GitHub\\\\ppgn'"
      ]
     },
     "execution_count": 19,
     "metadata": {},
     "output_type": "execute_result"
    }
   ],
   "source": [
    "path"
   ]
  },
  {
   "cell_type": "raw",
   "metadata": {},
   "source": []
  },
  {
   "cell_type": "markdown",
   "metadata": {},
   "source": [
    "# Get images and cut+resize"
   ]
  },
  {
   "cell_type": "code",
   "execution_count": 20,
   "metadata": {},
   "outputs": [
    {
     "name": "stdout",
     "output_type": "stream",
     "text": [
      "[WinError 183] Eine Datei kann nicht erstellt werden, wenn sie bereits vorhanden ist: 'C:\\\\Users\\\\Julian\\\\Documents\\\\GitHub\\\\ppgn\\\\Source'\n"
     ]
    }
   ],
   "source": [
    "if create_folder:\n",
    "    try:\n",
    "        os.mkdir(os.path.join(path,end_folder_name))\n",
    "        dest_folder_path = os.path.join(path,end_folder_name)\n",
    "    except:\n",
    "        dest_folder_path = os.path.join(path,end_folder_name)\n",
    "        \n",
    "try:\n",
    "    source = os.mkdir(os.path.join(path,'Source'))\n",
    "except Exception as e:\n",
    "    source = os.path.join(path,'Source')\n",
    "    print(e)"
   ]
  },
  {
   "cell_type": "code",
   "execution_count": 21,
   "metadata": {},
   "outputs": [
    {
     "data": {
      "text/plain": [
       "'C:\\\\Users\\\\Julian\\\\Documents\\\\GitHub\\\\ppgn\\\\test_cat__'"
      ]
     },
     "execution_count": 21,
     "metadata": {},
     "output_type": "execute_result"
    }
   ],
   "source": [
    "dest_folder_path"
   ]
  },
  {
   "cell_type": "code",
   "execution_count": 22,
   "metadata": {},
   "outputs": [],
   "source": [
    "#Cutting image function\n",
    "def cutting(img):\n",
    "    \n",
    "    width, height = img.shape[:2]\n",
    "    \n",
    "    if width >= th or height>= th:\n",
    "        pass\n",
    "    else:\n",
    "        if width > height:\n",
    "            x = int((width - height)/2)\n",
    "            img = img[x:x+height, 0:height]\n",
    "        else:\n",
    "            x = int((height - width)/2)\n",
    "            img = img[0:width, x:x + width] \n",
    "    \n",
    "    return img   "
   ]
  },
  {
   "cell_type": "code",
   "execution_count": 23,
   "metadata": {},
   "outputs": [],
   "source": [
    "content = []\n",
    "with open(os.path.join(path,'url.txt'),encoding=\"utf8\") as ff:\n",
    "    content = ff.readlines()"
   ]
  },
  {
   "cell_type": "code",
   "execution_count": 24,
   "metadata": {},
   "outputs": [],
   "source": [
    "#Delete duplicates\n",
    "content = list(set(content))"
   ]
  },
  {
   "cell_type": "code",
   "execution_count": 25,
   "metadata": {},
   "outputs": [
    {
     "data": {
      "text/plain": [
       "'\\nif clean_src:\\n    for item in os.listdir(source):\\n        os.remove(os.path.join(source, item))\\n'"
      ]
     },
     "execution_count": 25,
     "metadata": {},
     "output_type": "execute_result"
    }
   ],
   "source": [
    "'''\n",
    "if clean_src:\n",
    "    for item in os.listdir(source):\n",
    "        os.remove(os.path.join(source, item))\n",
    "'''"
   ]
  },
  {
   "cell_type": "code",
   "execution_count": 26,
   "metadata": {},
   "outputs": [
    {
     "name": "stdout",
     "output_type": "stream",
     "text": [
      "C:\\Users\\Julian\\Documents\\GitHub\\ppgn\\Source\\20171113_150950.jpg\n",
      "C:\\Users\\Julian\\Documents\\GitHub\\ppgn\\Source\\20171116_231652.jpg\n",
      "C:\\Users\\Julian\\Documents\\GitHub\\ppgn\\Source\\20171117_150059.jpg\n",
      "C:\\Users\\Julian\\Documents\\GitHub\\ppgn\\Source\\20171129_174426.jpg\n",
      "C:\\Users\\Julian\\Documents\\GitHub\\ppgn\\Source\\20171130_115055.jpg\n",
      "C:\\Users\\Julian\\Documents\\GitHub\\ppgn\\Source\\20171130_130809.jpg\n"
     ]
    }
   ],
   "source": [
    "i = 0\n",
    "\n",
    "for num, pic in enumerate(os.listdir(source)): \n",
    "    \n",
    "    '''\n",
    "        \n",
    "    try:\n",
    "        img_data = requests.get(url, timeout = timeout).content\n",
    "        \n",
    "    except requests.exceptions.RequestException as e:\n",
    "        print(e)\n",
    "        continue\n",
    "        \n",
    "    '''\n",
    "        \n",
    "    try:\n",
    "        \n",
    "        i = str(num).zfill(5)\n",
    "        name = os.path.join(source, pic )\n",
    "    \n",
    "        '''\n",
    "        with open(name, 'wb') as handler:\n",
    "            handler.write(img_data)\n",
    "            \n",
    "        '''\n",
    "  \n",
    "\n",
    "        print(name)\n",
    "\n",
    "        img = cv2.imread(name)\n",
    "        \n",
    "    \n",
    "        img = cutting(img)\n",
    "\n",
    "        \n",
    "        res = cv2.resize(img, dsize=(256, 256), interpolation=cv2.INTER_AREA)\n",
    "\n",
    "        cv2.imwrite(os.path.join(dest_folder_path, str(i) + '.JPEG'),res)\n",
    "        \n",
    " \n",
    "    except Exception as e:\n",
    "        print(e)"
   ]
  },
  {
   "cell_type": "code",
   "execution_count": 27,
   "metadata": {},
   "outputs": [],
   "source": [
    "ff.close()"
   ]
  },
  {
   "cell_type": "markdown",
   "metadata": {},
   "source": [
    "# Train/Val/Test Split"
   ]
  },
  {
   "cell_type": "raw",
   "metadata": {},
   "source": []
  },
  {
   "cell_type": "code",
   "execution_count": 28,
   "metadata": {},
   "outputs": [
    {
     "name": "stdout",
     "output_type": "stream",
     "text": [
      "['00000.JPEG', '00001.JPEG', '00002.JPEG', '00003.JPEG', '00004.JPEG', '00005.JPEG']\n"
     ]
    }
   ],
   "source": [
    "all_pics = os.listdir(dest_folder_path)\n",
    "all_pics = [file for file in all_pics if file.endswith('.JPEG')]"
   ]
  },
  {
   "cell_type": "code",
   "execution_count": 29,
   "metadata": {},
   "outputs": [],
   "source": [
    "y = [neuron_number] * len(all_pics)\n",
    "train, test, y_train, y_test = sk(all_pics, y, test_size=test_split, random_state=1)\n",
    "train, val, y_val, y_val = sk(train, y_train, test_size=val_split, random_state=1)"
   ]
  },
  {
   "cell_type": "code",
   "execution_count": 30,
   "metadata": {},
   "outputs": [],
   "source": [
    "#train folder\n",
    "train.sort()\n",
    "\n",
    "try:\n",
    "    os.mkdir(os.path.join(dest_folder_path,'train'))\n",
    "    pass\n",
    "except Exception as e:\n",
    "    print(e)\n",
    "    \n",
    "train_path = os.path.join(dest_folder_path,'train')\n",
    "\n",
    "\n",
    "f= open(os.path.join(train_path,\"_img_names.txt\"),\"w+\")\n",
    "\n",
    "    \n",
    "for pic in train:\n",
    "    try:\n",
    "            \n",
    "        shutil.move(os.path.join(dest_folder_path,pic), train_path)\n",
    "        \n",
    "        f.write(end_folder_name + '_' + str(pic) + ' ' + str(neuron_number) + ' \\n')\n",
    "        \n",
    "    except Exception as e:\n",
    "        \n",
    "        print(e)\n",
    "\n",
    "f.close()"
   ]
  },
  {
   "cell_type": "code",
   "execution_count": 31,
   "metadata": {},
   "outputs": [],
   "source": [
    "#validation folder\n",
    "val.sort()\n",
    "\n",
    "try:\n",
    "    os.mkdir(os.path.join(dest_folder_path,'validation'))\n",
    "    pass\n",
    "except Exception as e:\n",
    "    print(e)\n",
    "    \n",
    "val_path = os.path.join(dest_folder_path,'validation')\n",
    "\n",
    "\n",
    "f= open(os.path.join(val_path,\"_img_names.txt\"),\"w+\")\n",
    "    \n",
    "    \n",
    "for pic in val:\n",
    "    try:\n",
    "        \n",
    "        shutil.move(os.path.join(dest_folder_path,pic), val_path)\n",
    "        \n",
    "        f.write(end_folder_name + '_' + str(pic) + ' ' + str(neuron_number) + ' \\n')\n",
    "        \n",
    "    except Exception as e:\n",
    "        \n",
    "        print(e)\n",
    "        \n",
    "f.close()"
   ]
  },
  {
   "cell_type": "code",
   "execution_count": 32,
   "metadata": {},
   "outputs": [],
   "source": [
    "#train folder\n",
    "test.sort()\n",
    "\n",
    "try:\n",
    "    os.mkdir(os.path.join(dest_folder_path,'test'))\n",
    "    pass\n",
    "except Exception as e:\n",
    "    print(e)\n",
    "    \n",
    "    \n",
    "test_path = os.path.join(dest_folder_path,'test')\n",
    "\n",
    "\n",
    "f= open(os.path.join(test_path,\"_img_names.txt\"),\"w+\")\n",
    "    \n",
    "    \n",
    "for pic in test:\n",
    "    try:\n",
    "        \n",
    "        shutil.move(os.path.join(dest_folder_path,pic), test_path)\n",
    "        \n",
    "        f.write(end_folder_name + '_' + str(pic) + ' ' + str(neuron_number) + ' \\n')\n",
    "         \n",
    "    except Exception as e:\n",
    "        \n",
    "        print(e)\n",
    "        \n",
    "f.close()"
   ]
  },
  {
   "cell_type": "code",
   "execution_count": null,
   "metadata": {},
   "outputs": [],
   "source": []
  }
 ],
 "metadata": {
  "kernelspec": {
   "display_name": "Python 3",
   "language": "python",
   "name": "python3"
  },
  "language_info": {
   "codemirror_mode": {
    "name": "ipython",
    "version": 3
   },
   "file_extension": ".py",
   "mimetype": "text/x-python",
   "name": "python",
   "nbconvert_exporter": "python",
   "pygments_lexer": "ipython3",
   "version": "3.7.3"
  }
 },
 "nbformat": 4,
 "nbformat_minor": 2
}
