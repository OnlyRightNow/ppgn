{
 "cells": [
  {
   "cell_type": "code",
   "execution_count": 1,
   "metadata": {},
   "outputs": [],
   "source": [
    "import os\n",
    "import random\n",
    "from configparser import ConfigParser\n",
    "from sklearn.model_selection import train_test_split as sk"
   ]
  },
  {
   "cell_type": "code",
   "execution_count": 2,
   "metadata": {},
   "outputs": [],
   "source": [
    "path = os.getcwd()"
   ]
  },
  {
   "cell_type": "code",
   "execution_count": 3,
   "metadata": {},
   "outputs": [],
   "source": [
    "parser = ConfigParser()\n",
    "parser.read('dev.ini')\n",
    "#print(parser.sections())\n",
    "#parser.options('settings')\n",
    "sub_cat_1 = parser.get('merging', 'sub_cat_1')\n",
    "sub_cat_2 = parser.get('merging', 'sub_cat_2')\n",
    "end_folder_name = parser.get('merging', 'dest_name')\n",
    "create_folder = parser.getboolean('merging', 'create_folder', fallback = True)\n",
    "path= parser.get('merging', 'path', fallback = os.getcwd()) #+ '\\\\' + end_folder_name\n",
    "neuron_number = parser.getint('merging', 'neuron_number', fallback = 0)\n",
    "train_split = parser.getfloat('merging', 'train_split' , fallback = 0.7)\n",
    "val_split = parser.getfloat('merging', 'val_split' , fallback = 0.2)\n",
    "test_split = parser.getfloat('merging', 'test_split' , fallback = 0.1)"
   ]
  },
  {
   "cell_type": "code",
   "execution_count": 4,
   "metadata": {},
   "outputs": [],
   "source": [
    "with open(os.path.join(path,sub_cat_1),encoding=\"utf8\") as f:\n",
    "    s1 = f.readlines()"
   ]
  },
  {
   "cell_type": "code",
   "execution_count": 5,
   "metadata": {},
   "outputs": [],
   "source": [
    "with open(os.path.join(path,sub_cat_2),encoding=\"utf8\") as f:\n",
    "    s2 = f.readlines()"
   ]
  },
  {
   "cell_type": "code",
   "execution_count": 6,
   "metadata": {},
   "outputs": [],
   "source": [
    "f.close()"
   ]
  },
  {
   "cell_type": "code",
   "execution_count": 7,
   "metadata": {},
   "outputs": [
    {
     "data": {
      "text/plain": [
       "5762"
      ]
     },
     "execution_count": 7,
     "metadata": {},
     "output_type": "execute_result"
    }
   ],
   "source": [
    "l = min(len(s1), len(s2))\n",
    "l = int(l/2)\n",
    "l"
   ]
  },
  {
   "cell_type": "code",
   "execution_count": 8,
   "metadata": {},
   "outputs": [],
   "source": [
    "s1_rnd = random.sample(s1, l)\n",
    "s2_rnd = random.sample(s2, l)"
   ]
  },
  {
   "cell_type": "code",
   "execution_count": 9,
   "metadata": {},
   "outputs": [],
   "source": [
    "all_pics = s1_rnd + s2_rnd"
   ]
  },
  {
   "cell_type": "code",
   "execution_count": 10,
   "metadata": {},
   "outputs": [],
   "source": [
    "y = [neuron_number] * l"
   ]
  },
  {
   "cell_type": "code",
   "execution_count": 11,
   "metadata": {},
   "outputs": [],
   "source": [
    "f   = open(os.path.join(path, str(end_folder_name)  + '_train.txt'),\"w+\")\n",
    "ff  = open(os.path.join(path, str(end_folder_name)  + '_test.txt'),\"w+\")\n",
    "fff = open(os.path.join(path, str(end_folder_name)  + '_val.txt'),\"w+\")\n",
    "\n",
    "#train s1\n",
    "train, test, y_train, y_test = sk(s1_rnd, y, test_size=test_split, random_state=1)\n",
    "train, val, y_val, y_val = sk(train, y_train, test_size=val_split, random_state=1)\n",
    "\n",
    "train.sort()\n",
    "test.sort()\n",
    "val.sort()\n",
    "\n",
    "for pic in train:\n",
    "    f.write(pic[ : -2] + str(neuron_number) + '\\n')\n",
    "\n",
    "for pic in test:\n",
    "    ff.write(pic[ : -2] + str(neuron_number) + '\\n')\n",
    "    \n",
    "for pic in val:\n",
    "    fff.write(pic[ : -2] + str(neuron_number) + '\\n')  \n",
    "    \n",
    "\n",
    "#train s2\n",
    "train, test, y_train, y_test = sk(s2_rnd, y, test_size=test_split, random_state=1)\n",
    "train, val, y_val, y_val = sk(train, y_train, test_size=val_split, random_state=1)\n",
    "\n",
    "train.sort()\n",
    "    \n",
    "for pic in train:\n",
    "    f.write(pic[ : -2] + str(neuron_number) + '\\n')\n",
    "    \n",
    "for pic in test:\n",
    "    ff.write(pic[ : -2] + str(neuron_number) + '\\n')\n",
    "    \n",
    "for pic in val:\n",
    "    fff.write(pic[ : -2] + str(neuron_number) + '\\n')   \n"
   ]
  },
  {
   "cell_type": "code",
   "execution_count": null,
   "metadata": {},
   "outputs": [],
   "source": [
    "f.close()\n",
    "ff.close()\n",
    "fff.close()"
   ]
  },
  {
   "cell_type": "code",
   "execution_count": null,
   "metadata": {},
   "outputs": [],
   "source": []
  },
  {
   "cell_type": "code",
   "execution_count": null,
   "metadata": {},
   "outputs": [],
   "source": []
  }
 ],
 "metadata": {
  "kernelspec": {
   "display_name": "Python 3",
   "language": "python",
   "name": "python3"
  },
  "language_info": {
   "codemirror_mode": {
    "name": "ipython",
    "version": 3
   },
   "file_extension": ".py",
   "mimetype": "text/x-python",
   "name": "python",
   "nbconvert_exporter": "python",
   "pygments_lexer": "ipython3",
   "version": "3.7.3"
  }
 },
 "nbformat": 4,
 "nbformat_minor": 2
}
