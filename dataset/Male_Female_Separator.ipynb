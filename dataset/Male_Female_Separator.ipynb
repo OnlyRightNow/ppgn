{
 "cells": [
  {
   "cell_type": "code",
   "execution_count": 25,
   "metadata": {},
   "outputs": [],
   "source": [
    "import re\n",
    "import os\n",
    "import cv2\n",
    "import shutil"
   ]
  },
  {
   "cell_type": "code",
   "execution_count": 35,
   "metadata": {},
   "outputs": [],
   "source": [
    "path = os.path.join(os.getcwd(),'part3')"
   ]
  },
  {
   "cell_type": "code",
   "execution_count": 36,
   "metadata": {},
   "outputs": [
    {
     "data": {
      "text/plain": [
       "'C:\\\\Users\\\\Julian\\\\Documents\\\\GitHub\\\\ppgn\\\\part3'"
      ]
     },
     "execution_count": 36,
     "metadata": {},
     "output_type": "execute_result"
    }
   ],
   "source": [
    "path"
   ]
  },
  {
   "cell_type": "code",
   "execution_count": 37,
   "metadata": {},
   "outputs": [],
   "source": [
    "#os.mkdir('male')\n",
    "#os.mkdir('female')"
   ]
  },
  {
   "cell_type": "code",
   "execution_count": 38,
   "metadata": {},
   "outputs": [
    {
     "name": "stdout",
     "output_type": "stream",
     "text": [
      "No math\n"
     ]
    }
   ],
   "source": [
    "#[age]_[gender]_[race]_[date&time].jpg\n",
    "for i in os.listdir(path):\n",
    "    \n",
    "    pattern = '_\\d_'\n",
    "    \n",
    "    match = re.search(pattern, i)\n",
    "        \n",
    "    if(match):\n",
    "        \n",
    "        gender = int(i[match.start()+1:match.end()-1])\n",
    "        \n",
    "        pic = os.path.join(path,i)\n",
    "        \n",
    "        if gender == 0:\n",
    "            \n",
    "            shutil.move(pic, os.path.join(os.getcwd(), 'male'))\n",
    "            \n",
    "        elif gender == 1:\n",
    "            \n",
    "            shutil.move(pic, os.path.join(os.getcwd(), 'female'))\n",
    "            \n",
    "        else:\n",
    "            \n",
    "            print('Gender not found')\n",
    "            \n",
    "    else:\n",
    "        \n",
    "        print('No math')\n",
    "            \n",
    "            "
   ]
  },
  {
   "cell_type": "code",
   "execution_count": null,
   "metadata": {},
   "outputs": [],
   "source": []
  }
 ],
 "metadata": {
  "kernelspec": {
   "display_name": "Python 3",
   "language": "python",
   "name": "python3"
  },
  "language_info": {
   "codemirror_mode": {
    "name": "ipython",
    "version": 3
   },
   "file_extension": ".py",
   "mimetype": "text/x-python",
   "name": "python",
   "nbconvert_exporter": "python",
   "pygments_lexer": "ipython3",
   "version": "3.7.3"
  }
 },
 "nbformat": 4,
 "nbformat_minor": 2
}
