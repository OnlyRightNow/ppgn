{
 "cells": [
  {
   "cell_type": "raw",
   "metadata": {},
   "source": []
  },
  {
   "cell_type": "code",
   "execution_count": 10,
   "metadata": {},
   "outputs": [],
   "source": [
    "import os\n",
    "import cv2\n",
    "import shutil\n",
    "import requests\n",
    "from configparser import ConfigParser"
   ]
  },
  {
   "cell_type": "markdown",
   "metadata": {},
   "source": [
    "# Config"
   ]
  },
  {
   "cell_type": "code",
   "execution_count": 11,
   "metadata": {
    "scrolled": true
   },
   "outputs": [],
   "source": [
    "parser = ConfigParser()\n",
    "parser.read('dev.ini')\n",
    "#print(parser.sections())\n",
    "#parser.options('settings')\n",
    "end_folder_name = parser.get('settings', 'dest_name')\n",
    "create_folder = parser.getboolean('settings', 'create_folder', fallback = True)\n",
    "path= parser.get('settings', 'path', fallback = os.getcwd() + '\\\\' + end_folder_name)\n",
    "th = parser.getint('settings', 'size_treshold', fallback = 9999)\n",
    "timeout = parser.getint('settings', 'timeout', fallback = 20)\n",
    "clean_src = parser.getboolean('settings', 'clean_src', fallback = False)\n",
    "neuron_number = parser.getint('settings', 'neuron_number', fallback = 0)"
   ]
  },
  {
   "cell_type": "code",
   "execution_count": 12,
   "metadata": {},
   "outputs": [
    {
     "data": {
      "text/plain": [
       "'C:\\\\Users\\\\Julian\\\\Documents\\\\Studium\\\\Delft\\\\Deep Learning\\\\data'"
      ]
     },
     "execution_count": 12,
     "metadata": {},
     "output_type": "execute_result"
    },
    {
     "data": {
      "text/plain": [
       "'C:\\\\Users\\\\Julian\\\\Documents\\\\Studium\\\\Delft\\\\Deep Learning\\\\data'"
      ]
     },
     "execution_count": 12,
     "metadata": {},
     "output_type": "execute_result"
    }
   ],
   "source": [
    "path"
   ]
  },
  {
   "cell_type": "raw",
   "metadata": {},
   "source": []
  },
  {
   "cell_type": "markdown",
   "metadata": {},
   "source": [
    "# Get images and cut+resize"
   ]
  },
  {
   "cell_type": "code",
   "execution_count": 13,
   "metadata": {},
   "outputs": [],
   "source": [
    "if create_folder:\n",
    "    try:\n",
    "        dest_folder_path = os.mkdir(os.path.join(path,end_folder_name))\n",
    "    except:\n",
    "        dest_folder_path = os.path.join(path,end_folder_name)"
   ]
  },
  {
   "cell_type": "code",
   "execution_count": 14,
   "metadata": {},
   "outputs": [],
   "source": [
    "#Cutting image function\n",
    "def cutting(img):\n",
    "    \n",
    "    width, height = img.shape[:2]\n",
    "    \n",
    "    if width >= th or height>= th:\n",
    "        pass\n",
    "    else:\n",
    "        if width > height:\n",
    "            x = int((width - height)/2)\n",
    "            img = img[x:x+height, 0:height]\n",
    "        else:\n",
    "            x = int((height - width)/2)\n",
    "            img = img[0:width, x:x + width] \n",
    "    \n",
    "    return img   "
   ]
  },
  {
   "cell_type": "code",
   "execution_count": 15,
   "metadata": {},
   "outputs": [],
   "source": [
    "content = []\n",
    "with open(os.path.join(path,'url.txt'),encoding=\"utf8\") as ff:\n",
    "    content = ff.readlines()"
   ]
  },
  {
   "cell_type": "code",
   "execution_count": 16,
   "metadata": {},
   "outputs": [],
   "source": [
    "#Delete duplicates\n",
    "content = list(set(content))"
   ]
  },
  {
   "cell_type": "code",
   "execution_count": 19,
   "metadata": {},
   "outputs": [
    {
     "name": "stdout",
     "output_type": "stream",
     "text": [
      "C:\\Users\\Julian\\Documents\\Studium\\Delft\\Deep Learning\\data\\Source\\00000.JPEG\n",
      "C:\\Users\\Julian\\Documents\\Studium\\Delft\\Deep Learning\\data\\Source\\00000.JPEG\n",
      "C:\\Users\\Julian\\Documents\\Studium\\Delft\\Deep Learning\\data\\Source\\00001.JPEG\n",
      "'NoneType' object has no attribute 'shape'\n",
      "C:\\Users\\Julian\\Documents\\Studium\\Delft\\Deep Learning\\data\\Source\\00001.JPEG\n",
      "'NoneType' object has no attribute 'shape'\n",
      "C:\\Users\\Julian\\Documents\\Studium\\Delft\\Deep Learning\\data\\Source\\00002.JPEG\n",
      "C:\\Users\\Julian\\Documents\\Studium\\Delft\\Deep Learning\\data\\Source\\00002.JPEG\n",
      "C:\\Users\\Julian\\Documents\\Studium\\Delft\\Deep Learning\\data\\Source\\00003.JPEG\n",
      "C:\\Users\\Julian\\Documents\\Studium\\Delft\\Deep Learning\\data\\Source\\00003.JPEG\n",
      "C:\\Users\\Julian\\Documents\\Studium\\Delft\\Deep Learning\\data\\Source\\00004.JPEG\n",
      "C:\\Users\\Julian\\Documents\\Studium\\Delft\\Deep Learning\\data\\Source\\00004.JPEG\n",
      "C:\\Users\\Julian\\Documents\\Studium\\Delft\\Deep Learning\\data\\Source\\00005.JPEG\n",
      "C:\\Users\\Julian\\Documents\\Studium\\Delft\\Deep Learning\\data\\Source\\00005.JPEG\n",
      "C:\\Users\\Julian\\Documents\\Studium\\Delft\\Deep Learning\\data\\Source\\00006.JPEG\n",
      "C:\\Users\\Julian\\Documents\\Studium\\Delft\\Deep Learning\\data\\Source\\00006.JPEG\n",
      "C:\\Users\\Julian\\Documents\\Studium\\Delft\\Deep Learning\\data\\Source\\00007.JPEG\n",
      "C:\\Users\\Julian\\Documents\\Studium\\Delft\\Deep Learning\\data\\Source\\00007.JPEG\n",
      "C:\\Users\\Julian\\Documents\\Studium\\Delft\\Deep Learning\\data\\Source\\00008.JPEG\n",
      "'NoneType' object has no attribute 'shape'\n",
      "C:\\Users\\Julian\\Documents\\Studium\\Delft\\Deep Learning\\data\\Source\\00008.JPEG\n",
      "'NoneType' object has no attribute 'shape'\n",
      "C:\\Users\\Julian\\Documents\\Studium\\Delft\\Deep Learning\\data\\Source\\00009.JPEG\n",
      "C:\\Users\\Julian\\Documents\\Studium\\Delft\\Deep Learning\\data\\Source\\00009.JPEG\n",
      "C:\\Users\\Julian\\Documents\\Studium\\Delft\\Deep Learning\\data\\Source\\00010.JPEG\n",
      "C:\\Users\\Julian\\Documents\\Studium\\Delft\\Deep Learning\\data\\Source\\00010.JPEG\n",
      "C:\\Users\\Julian\\Documents\\Studium\\Delft\\Deep Learning\\data\\Source\\00011.JPEG\n",
      "C:\\Users\\Julian\\Documents\\Studium\\Delft\\Deep Learning\\data\\Source\\00011.JPEG\n",
      "C:\\Users\\Julian\\Documents\\Studium\\Delft\\Deep Learning\\data\\Source\\00012.JPEG\n",
      "C:\\Users\\Julian\\Documents\\Studium\\Delft\\Deep Learning\\data\\Source\\00012.JPEG\n"
     ]
    }
   ],
   "source": [
    "i = 0\n",
    "\n",
    "for num, url in enumerate(content): \n",
    "        \n",
    "    try:\n",
    "        img_data = requests.get(url, timeout = timeout).content\n",
    "        \n",
    "    except requests.exceptions.RequestException as e:\n",
    "        print(e)\n",
    "        \n",
    "    try:\n",
    "        \n",
    "        i = str(num).zfill(5)\n",
    "        name = os.path.join(os.path.join(path,'Source'), str(i) + '.JPEG')\n",
    "    \n",
    "    \n",
    "        with open(name, 'wb') as handler:\n",
    "            handler.write(img_data)\n",
    "  \n",
    "\n",
    "        print(name)\n",
    "\n",
    "        img = cv2.imread(name)\n",
    "        \n",
    "    \n",
    "        img = cutting(img)\n",
    "\n",
    "        \n",
    "        res = cv2.resize(img, dsize=(256, 256), interpolation=cv2.INTER_AREA)\n",
    "\n",
    "        cv2.imwrite(os.path.join(dest_folder_path, str(i) + '.JPEG'),res)\n",
    "        \n",
    " \n",
    "    except Exception as e:\n",
    "        print(e)"
   ]
  },
  {
   "cell_type": "code",
   "execution_count": null,
   "metadata": {},
   "outputs": [],
   "source": [
    "ff.close()"
   ]
  },
  {
   "cell_type": "markdown",
   "metadata": {},
   "source": [
    "# Create Name File"
   ]
  },
  {
   "cell_type": "markdown",
   "metadata": {},
   "source": [
    "*First do manual cleaning*"
   ]
  },
  {
   "cell_type": "code",
   "execution_count": null,
   "metadata": {},
   "outputs": [],
   "source": [
    "user_input = input('Did you clean pics manualy? [y/n]:')"
   ]
  },
  {
   "cell_type": "code",
   "execution_count": null,
   "metadata": {},
   "outputs": [],
   "source": [
    "if user_input == 'y':\n",
    "    content = os.listdir(dest_folder_path)\n",
    "    #Create txt file to store image names\n",
    "    f= open(dest_folder_path + '\\\\' + end_folder_name + \"_img_names.txt\",\"w+\")\n",
    "    for num, address in enumerate(content):\n",
    "        i = str(num+1).zfill(5)\n",
    "        f.write(end_folder_name + '_' +  i + '.JPEG ' + str(neuron_number) + ' \\n')"
   ]
  },
  {
   "cell_type": "code",
   "execution_count": null,
   "metadata": {},
   "outputs": [],
   "source": [
    "f.close()"
   ]
  },
  {
   "cell_type": "code",
   "execution_count": 9,
   "metadata": {},
   "outputs": [],
   "source": [
    "if clean_src:\n",
    "    p = os.path.join(path,'Source')\n",
    "    for item in os.listdir(p):\n",
    "        os.remove(os.path.join(p, item))"
   ]
  },
  {
   "cell_type": "raw",
   "metadata": {},
   "source": []
  }
 ],
 "metadata": {
  "kernelspec": {
   "display_name": "Python 3",
   "language": "python",
   "name": "python3"
  },
  "language_info": {
   "codemirror_mode": {
    "name": "ipython",
    "version": 3
   },
   "file_extension": ".py",
   "mimetype": "text/x-python",
   "name": "python",
   "nbconvert_exporter": "python",
   "pygments_lexer": "ipython3",
   "version": "3.7.3"
  }
 },
 "nbformat": 4,
 "nbformat_minor": 2
}
