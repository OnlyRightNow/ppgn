{
 "cells": [
  {
   "cell_type": "raw",
   "metadata": {},
   "source": []
  },
  {
   "cell_type": "code",
   "execution_count": 1,
   "metadata": {},
   "outputs": [],
   "source": [
    "import os\n",
    "import cv2\n",
    "import shutil\n",
    "import requests\n",
    "from configparser import ConfigParser"
   ]
  },
  {
   "cell_type": "markdown",
   "metadata": {},
   "source": [
    "# Config"
   ]
  },
  {
   "cell_type": "code",
   "execution_count": 2,
   "metadata": {
    "scrolled": true
   },
   "outputs": [],
   "source": [
    "parser = ConfigParser()\n",
    "parser.read('dev.ini')\n",
    "#print(parser.sections())\n",
    "#parser.options('settings')\n",
    "end_folder_name = parser.get('settings', 'dest_name')\n",
    "create_folder = parser.getboolean('settings', 'create_folder', fallback = True)\n",
    "path= parser.get('settings', 'path', fallback = os.getcwd() + '\\\\' + end_folder_name)\n",
    "th = parser.getint('settings', 'size_treshold', fallback = 9999)\n",
    "timeout = parser.getint('settings', 'timeout', fallback = 20)\n",
    "clean_src = parser.getboolean('settings', 'clean_src', fallback = False)\n",
    "neuron_number = parser.getint('settings', 'neuron_number', fallback = 0)"
   ]
  },
  {
   "cell_type": "code",
   "execution_count": 3,
   "metadata": {},
   "outputs": [
    {
     "data": {
      "text/plain": [
       "'C:\\\\Users\\\\Julian\\\\Documents\\\\Studium\\\\Delft\\\\Deep Learning\\\\data'"
      ]
     },
     "execution_count": 3,
     "metadata": {},
     "output_type": "execute_result"
    }
   ],
   "source": [
    "path"
   ]
  },
  {
   "cell_type": "raw",
   "metadata": {},
   "source": []
  },
  {
   "cell_type": "markdown",
   "metadata": {},
   "source": [
    "# Get images and cut+resize"
   ]
  },
  {
   "cell_type": "code",
   "execution_count": 4,
   "metadata": {},
   "outputs": [],
   "source": [
    "if create_folder:\n",
    "    try:\n",
    "        dest_folder_path = os.mkdir(os.path.join(path,end_folder_name))\n",
    "    except:\n",
    "        dest_folder_path = os.path.join(path,end_folder_name)"
   ]
  },
  {
   "cell_type": "code",
   "execution_count": 5,
   "metadata": {},
   "outputs": [],
   "source": [
    "#Cutting image function\n",
    "def cutting(img):\n",
    "    \n",
    "    width, height = img.shape[:2]\n",
    "    \n",
    "    if width >= th or height>= th:\n",
    "        pass\n",
    "    else:\n",
    "        if width > height:\n",
    "            x = int((width - height)/2)\n",
    "            img = img[x:x+height, 0:height]\n",
    "        else:\n",
    "            x = int((height - width)/2)\n",
    "            img = img[0:width, x:x + width] \n",
    "    \n",
    "    return img   "
   ]
  },
  {
   "cell_type": "code",
   "execution_count": 6,
   "metadata": {},
   "outputs": [],
   "source": [
    "content = []\n",
    "with open(os.path.join(path,'url.txt'),encoding=\"utf8\") as ff:\n",
    "    content = ff.readlines()"
   ]
  },
  {
   "cell_type": "code",
   "execution_count": 7,
   "metadata": {},
   "outputs": [],
   "source": [
    "#Delete duplicates\n",
    "content = list(set(content))"
   ]
  },
  {
   "cell_type": "code",
   "execution_count": null,
   "metadata": {},
   "outputs": [
    {
     "name": "stdout",
     "output_type": "stream",
     "text": [
      "C:\\Users\\Julian\\Documents\\Studium\\Delft\\Deep Learning\\data\\Source\\00000.JPEG\n",
      "C:\\Users\\Julian\\Documents\\Studium\\Delft\\Deep Learning\\data\\Source\\00001.JPEG\n",
      "C:\\Users\\Julian\\Documents\\Studium\\Delft\\Deep Learning\\data\\Source\\00002.JPEG\n",
      "'NoneType' object has no attribute 'shape'\n",
      "C:\\Users\\Julian\\Documents\\Studium\\Delft\\Deep Learning\\data\\Source\\00003.JPEG\n",
      "'NoneType' object has no attribute 'shape'\n",
      "('Connection aborted.', ConnectionResetError(10054, 'Eine vorhandene Verbindung wurde vom Remotehost geschlossen', None, 10054, None))\n",
      "C:\\Users\\Julian\\Documents\\Studium\\Delft\\Deep Learning\\data\\Source\\00005.JPEG\n",
      "C:\\Users\\Julian\\Documents\\Studium\\Delft\\Deep Learning\\data\\Source\\00006.JPEG\n",
      "'NoneType' object has no attribute 'shape'\n",
      "C:\\Users\\Julian\\Documents\\Studium\\Delft\\Deep Learning\\data\\Source\\00007.JPEG\n",
      "C:\\Users\\Julian\\Documents\\Studium\\Delft\\Deep Learning\\data\\Source\\00008.JPEG\n",
      "C:\\Users\\Julian\\Documents\\Studium\\Delft\\Deep Learning\\data\\Source\\00009.JPEG\n",
      "C:\\Users\\Julian\\Documents\\Studium\\Delft\\Deep Learning\\data\\Source\\00010.JPEG\n",
      "C:\\Users\\Julian\\Documents\\Studium\\Delft\\Deep Learning\\data\\Source\\00011.JPEG\n",
      "C:\\Users\\Julian\\Documents\\Studium\\Delft\\Deep Learning\\data\\Source\\00012.JPEG\n",
      "HTTPConnectionPool(host='www.d-travel.com', port=80): Max retries exceeded with url: /images/Egypt-03.jpg%0A (Caused by NewConnectionError('<urllib3.connection.HTTPConnection object at 0x0000011A3E553CF8>: Failed to establish a new connection: [Errno 11002] getaddrinfo failed'))\n",
      "C:\\Users\\Julian\\Documents\\Studium\\Delft\\Deep Learning\\data\\Source\\00014.JPEG\n",
      "C:\\Users\\Julian\\Documents\\Studium\\Delft\\Deep Learning\\data\\Source\\00015.JPEG\n",
      "'NoneType' object has no attribute 'shape'\n",
      "C:\\Users\\Julian\\Documents\\Studium\\Delft\\Deep Learning\\data\\Source\\00016.JPEG\n",
      "'NoneType' object has no attribute 'shape'\n",
      "C:\\Users\\Julian\\Documents\\Studium\\Delft\\Deep Learning\\data\\Source\\00017.JPEG\n",
      "C:\\Users\\Julian\\Documents\\Studium\\Delft\\Deep Learning\\data\\Source\\00018.JPEG\n",
      "C:\\Users\\Julian\\Documents\\Studium\\Delft\\Deep Learning\\data\\Source\\00019.JPEG\n",
      "C:\\Users\\Julian\\Documents\\Studium\\Delft\\Deep Learning\\data\\Source\\00020.JPEG\n",
      "'NoneType' object has no attribute 'shape'\n",
      "C:\\Users\\Julian\\Documents\\Studium\\Delft\\Deep Learning\\data\\Source\\00021.JPEG\n",
      "'NoneType' object has no attribute 'shape'\n",
      "C:\\Users\\Julian\\Documents\\Studium\\Delft\\Deep Learning\\data\\Source\\00022.JPEG\n",
      "'NoneType' object has no attribute 'shape'\n",
      "C:\\Users\\Julian\\Documents\\Studium\\Delft\\Deep Learning\\data\\Source\\00023.JPEG\n",
      "C:\\Users\\Julian\\Documents\\Studium\\Delft\\Deep Learning\\data\\Source\\00024.JPEG\n",
      "'NoneType' object has no attribute 'shape'\n",
      "C:\\Users\\Julian\\Documents\\Studium\\Delft\\Deep Learning\\data\\Source\\00025.JPEG\n",
      "'NoneType' object has no attribute 'shape'\n",
      "C:\\Users\\Julian\\Documents\\Studium\\Delft\\Deep Learning\\data\\Source\\00026.JPEG\n",
      "C:\\Users\\Julian\\Documents\\Studium\\Delft\\Deep Learning\\data\\Source\\00027.JPEG\n",
      "'NoneType' object has no attribute 'shape'\n",
      "C:\\Users\\Julian\\Documents\\Studium\\Delft\\Deep Learning\\data\\Source\\00028.JPEG\n",
      "C:\\Users\\Julian\\Documents\\Studium\\Delft\\Deep Learning\\data\\Source\\00029.JPEG\n",
      "C:\\Users\\Julian\\Documents\\Studium\\Delft\\Deep Learning\\data\\Source\\00030.JPEG\n",
      "'NoneType' object has no attribute 'shape'\n",
      "C:\\Users\\Julian\\Documents\\Studium\\Delft\\Deep Learning\\data\\Source\\00031.JPEG\n",
      "C:\\Users\\Julian\\Documents\\Studium\\Delft\\Deep Learning\\data\\Source\\00032.JPEG\n",
      "'NoneType' object has no attribute 'shape'\n",
      "C:\\Users\\Julian\\Documents\\Studium\\Delft\\Deep Learning\\data\\Source\\00033.JPEG\n",
      "C:\\Users\\Julian\\Documents\\Studium\\Delft\\Deep Learning\\data\\Source\\00034.JPEG\n",
      "('Connection aborted.', RemoteDisconnected('Remote end closed connection without response'))\n",
      "C:\\Users\\Julian\\Documents\\Studium\\Delft\\Deep Learning\\data\\Source\\00036.JPEG\n",
      "C:\\Users\\Julian\\Documents\\Studium\\Delft\\Deep Learning\\data\\Source\\00037.JPEG\n",
      "C:\\Users\\Julian\\Documents\\Studium\\Delft\\Deep Learning\\data\\Source\\00038.JPEG\n",
      "'NoneType' object has no attribute 'shape'\n",
      "C:\\Users\\Julian\\Documents\\Studium\\Delft\\Deep Learning\\data\\Source\\00039.JPEG\n",
      "C:\\Users\\Julian\\Documents\\Studium\\Delft\\Deep Learning\\data\\Source\\00040.JPEG\n",
      "C:\\Users\\Julian\\Documents\\Studium\\Delft\\Deep Learning\\data\\Source\\00041.JPEG\n",
      "'NoneType' object has no attribute 'shape'\n",
      "C:\\Users\\Julian\\Documents\\Studium\\Delft\\Deep Learning\\data\\Source\\00042.JPEG\n",
      "'NoneType' object has no attribute 'shape'\n",
      "C:\\Users\\Julian\\Documents\\Studium\\Delft\\Deep Learning\\data\\Source\\00043.JPEG\n",
      "C:\\Users\\Julian\\Documents\\Studium\\Delft\\Deep Learning\\data\\Source\\00044.JPEG\n",
      "C:\\Users\\Julian\\Documents\\Studium\\Delft\\Deep Learning\\data\\Source\\00045.JPEG\n",
      "C:\\Users\\Julian\\Documents\\Studium\\Delft\\Deep Learning\\data\\Source\\00046.JPEG\n",
      "'NoneType' object has no attribute 'shape'\n",
      "C:\\Users\\Julian\\Documents\\Studium\\Delft\\Deep Learning\\data\\Source\\00047.JPEG\n",
      "C:\\Users\\Julian\\Documents\\Studium\\Delft\\Deep Learning\\data\\Source\\00048.JPEG\n",
      "'NoneType' object has no attribute 'shape'\n",
      "C:\\Users\\Julian\\Documents\\Studium\\Delft\\Deep Learning\\data\\Source\\00049.JPEG\n",
      "C:\\Users\\Julian\\Documents\\Studium\\Delft\\Deep Learning\\data\\Source\\00050.JPEG\n",
      "C:\\Users\\Julian\\Documents\\Studium\\Delft\\Deep Learning\\data\\Source\\00051.JPEG\n",
      "'NoneType' object has no attribute 'shape'\n",
      "C:\\Users\\Julian\\Documents\\Studium\\Delft\\Deep Learning\\data\\Source\\00052.JPEG\n",
      "HTTPConnectionPool(host='images.ciao.com', port=80): Max retries exceeded with url: /ies/images/products/normal/452/product-695452.jpg%0A (Caused by NewConnectionError('<urllib3.connection.HTTPConnection object at 0x0000011A3E6A7EB8>: Failed to establish a new connection: [Errno 11001] getaddrinfo failed'))\n",
      "C:\\Users\\Julian\\Documents\\Studium\\Delft\\Deep Learning\\data\\Source\\00054.JPEG\n",
      "C:\\Users\\Julian\\Documents\\Studium\\Delft\\Deep Learning\\data\\Source\\00055.JPEG\n",
      "'NoneType' object has no attribute 'shape'\n",
      "C:\\Users\\Julian\\Documents\\Studium\\Delft\\Deep Learning\\data\\Source\\00056.JPEG\n",
      "HTTPConnectionPool(host='www.petzympatico.com.au', port=80): Max retries exceeded with url: /images/Trish%20Woods%20Abyssinians.jpg%0A (Caused by NewConnectionError('<urllib3.connection.HTTPConnection object at 0x0000011A3E6A7A58>: Failed to establish a new connection: [Errno 11002] getaddrinfo failed'))\n",
      "C:\\Users\\Julian\\Documents\\Studium\\Delft\\Deep Learning\\data\\Source\\00058.JPEG\n",
      "C:\\Users\\Julian\\Documents\\Studium\\Delft\\Deep Learning\\data\\Source\\00059.JPEG\n",
      "C:\\Users\\Julian\\Documents\\Studium\\Delft\\Deep Learning\\data\\Source\\00060.JPEG\n",
      "'NoneType' object has no attribute 'shape'\n",
      "C:\\Users\\Julian\\Documents\\Studium\\Delft\\Deep Learning\\data\\Source\\00061.JPEG\n",
      "C:\\Users\\Julian\\Documents\\Studium\\Delft\\Deep Learning\\data\\Source\\00062.JPEG\n",
      "'NoneType' object has no attribute 'shape'\n",
      "C:\\Users\\Julian\\Documents\\Studium\\Delft\\Deep Learning\\data\\Source\\00063.JPEG\n",
      "C:\\Users\\Julian\\Documents\\Studium\\Delft\\Deep Learning\\data\\Source\\00064.JPEG\n",
      "'NoneType' object has no attribute 'shape'\n",
      "C:\\Users\\Julian\\Documents\\Studium\\Delft\\Deep Learning\\data\\Source\\00065.JPEG\n",
      "'NoneType' object has no attribute 'shape'\n",
      "C:\\Users\\Julian\\Documents\\Studium\\Delft\\Deep Learning\\data\\Source\\00066.JPEG\n",
      "'NoneType' object has no attribute 'shape'\n",
      "C:\\Users\\Julian\\Documents\\Studium\\Delft\\Deep Learning\\data\\Source\\00067.JPEG\n",
      "C:\\Users\\Julian\\Documents\\Studium\\Delft\\Deep Learning\\data\\Source\\00068.JPEG\n",
      "C:\\Users\\Julian\\Documents\\Studium\\Delft\\Deep Learning\\data\\Source\\00069.JPEG\n",
      "'NoneType' object has no attribute 'shape'\n",
      "C:\\Users\\Julian\\Documents\\Studium\\Delft\\Deep Learning\\data\\Source\\00070.JPEG\n",
      "C:\\Users\\Julian\\Documents\\Studium\\Delft\\Deep Learning\\data\\Source\\00071.JPEG\n",
      "C:\\Users\\Julian\\Documents\\Studium\\Delft\\Deep Learning\\data\\Source\\00072.JPEG\n",
      "C:\\Users\\Julian\\Documents\\Studium\\Delft\\Deep Learning\\data\\Source\\00073.JPEG\n",
      "'NoneType' object has no attribute 'shape'\n",
      "C:\\Users\\Julian\\Documents\\Studium\\Delft\\Deep Learning\\data\\Source\\00074.JPEG\n",
      "C:\\Users\\Julian\\Documents\\Studium\\Delft\\Deep Learning\\data\\Source\\00075.JPEG\n",
      "C:\\Users\\Julian\\Documents\\Studium\\Delft\\Deep Learning\\data\\Source\\00076.JPEG\n",
      "HTTPConnectionPool(host='www.robink.ca', port=80): Max retries exceeded with url: /blog/wp-content/uploads/2007/09/lucky1.jpg%0A (Caused by NewConnectionError('<urllib3.connection.HTTPConnection object at 0x0000011A3E6A7F98>: Failed to establish a new connection: [Errno 11002] getaddrinfo failed'))\n",
      "C:\\Users\\Julian\\Documents\\Studium\\Delft\\Deep Learning\\data\\Source\\00078.JPEG\n"
     ]
    },
    {
     "name": "stdout",
     "output_type": "stream",
     "text": [
      "C:\\Users\\Julian\\Documents\\Studium\\Delft\\Deep Learning\\data\\Source\\00079.JPEG\n",
      "C:\\Users\\Julian\\Documents\\Studium\\Delft\\Deep Learning\\data\\Source\\00080.JPEG\n",
      "'NoneType' object has no attribute 'shape'\n",
      "C:\\Users\\Julian\\Documents\\Studium\\Delft\\Deep Learning\\data\\Source\\00081.JPEG\n",
      "C:\\Users\\Julian\\Documents\\Studium\\Delft\\Deep Learning\\data\\Source\\00082.JPEG\n",
      "C:\\Users\\Julian\\Documents\\Studium\\Delft\\Deep Learning\\data\\Source\\00083.JPEG\n",
      "'NoneType' object has no attribute 'shape'\n",
      "C:\\Users\\Julian\\Documents\\Studium\\Delft\\Deep Learning\\data\\Source\\00084.JPEG\n",
      "C:\\Users\\Julian\\Documents\\Studium\\Delft\\Deep Learning\\data\\Source\\00085.JPEG\n",
      "C:\\Users\\Julian\\Documents\\Studium\\Delft\\Deep Learning\\data\\Source\\00086.JPEG\n",
      "'NoneType' object has no attribute 'shape'\n",
      "C:\\Users\\Julian\\Documents\\Studium\\Delft\\Deep Learning\\data\\Source\\00087.JPEG\n",
      "C:\\Users\\Julian\\Documents\\Studium\\Delft\\Deep Learning\\data\\Source\\00088.JPEG\n",
      "C:\\Users\\Julian\\Documents\\Studium\\Delft\\Deep Learning\\data\\Source\\00089.JPEG\n",
      "'NoneType' object has no attribute 'shape'\n",
      "C:\\Users\\Julian\\Documents\\Studium\\Delft\\Deep Learning\\data\\Source\\00090.JPEG\n",
      "'NoneType' object has no attribute 'shape'\n",
      "C:\\Users\\Julian\\Documents\\Studium\\Delft\\Deep Learning\\data\\Source\\00091.JPEG\n",
      "C:\\Users\\Julian\\Documents\\Studium\\Delft\\Deep Learning\\data\\Source\\00092.JPEG\n",
      "C:\\Users\\Julian\\Documents\\Studium\\Delft\\Deep Learning\\data\\Source\\00093.JPEG\n",
      "'NoneType' object has no attribute 'shape'\n",
      "C:\\Users\\Julian\\Documents\\Studium\\Delft\\Deep Learning\\data\\Source\\00094.JPEG\n",
      "C:\\Users\\Julian\\Documents\\Studium\\Delft\\Deep Learning\\data\\Source\\00095.JPEG\n",
      "C:\\Users\\Julian\\Documents\\Studium\\Delft\\Deep Learning\\data\\Source\\00096.JPEG\n",
      "C:\\Users\\Julian\\Documents\\Studium\\Delft\\Deep Learning\\data\\Source\\00097.JPEG\n",
      "C:\\Users\\Julian\\Documents\\Studium\\Delft\\Deep Learning\\data\\Source\\00098.JPEG\n",
      "C:\\Users\\Julian\\Documents\\Studium\\Delft\\Deep Learning\\data\\Source\\00099.JPEG\n",
      "'NoneType' object has no attribute 'shape'\n",
      "C:\\Users\\Julian\\Documents\\Studium\\Delft\\Deep Learning\\data\\Source\\00100.JPEG\n",
      "'NoneType' object has no attribute 'shape'\n",
      "C:\\Users\\Julian\\Documents\\Studium\\Delft\\Deep Learning\\data\\Source\\00101.JPEG\n",
      "C:\\Users\\Julian\\Documents\\Studium\\Delft\\Deep Learning\\data\\Source\\00102.JPEG\n",
      "C:\\Users\\Julian\\Documents\\Studium\\Delft\\Deep Learning\\data\\Source\\00103.JPEG\n",
      "C:\\Users\\Julian\\Documents\\Studium\\Delft\\Deep Learning\\data\\Source\\00104.JPEG\n",
      "C:\\Users\\Julian\\Documents\\Studium\\Delft\\Deep Learning\\data\\Source\\00105.JPEG\n",
      "'NoneType' object has no attribute 'shape'\n",
      "HTTPConnectionPool(host='www.feline-care.com', port=80): Max retries exceeded with url: /images/breeds/turkish_angora.jpg%0A (Caused by NewConnectionError('<urllib3.connection.HTTPConnection object at 0x0000011A3E553128>: Failed to establish a new connection: [Errno 11001] getaddrinfo failed'))\n",
      "C:\\Users\\Julian\\Documents\\Studium\\Delft\\Deep Learning\\data\\Source\\00107.JPEG\n",
      "C:\\Users\\Julian\\Documents\\Studium\\Delft\\Deep Learning\\data\\Source\\00108.JPEG\n",
      "'NoneType' object has no attribute 'shape'\n",
      "C:\\Users\\Julian\\Documents\\Studium\\Delft\\Deep Learning\\data\\Source\\00109.JPEG\n",
      "HTTPConnectionPool(host='images.encarta.msn.com', port=80): Max retries exceeded with url: /xrefmedia/sharemed/targets/images/pho/t054/T054577A.jtn%0A (Caused by NewConnectionError('<urllib3.connection.HTTPConnection object at 0x0000011A3E6A7F60>: Failed to establish a new connection: [WinError 10060] Ein Verbindungsversuch ist fehlgeschlagen, da die Gegenstelle nach einer bestimmten Zeitspanne nicht richtig reagiert hat, oder die hergestellte Verbindung war fehlerhaft, da der verbundene Host nicht reagiert hat'))\n",
      "C:\\Users\\Julian\\Documents\\Studium\\Delft\\Deep Learning\\data\\Source\\00111.JPEG\n",
      "C:\\Users\\Julian\\Documents\\Studium\\Delft\\Deep Learning\\data\\Source\\00112.JPEG\n",
      "C:\\Users\\Julian\\Documents\\Studium\\Delft\\Deep Learning\\data\\Source\\00113.JPEG\n",
      "C:\\Users\\Julian\\Documents\\Studium\\Delft\\Deep Learning\\data\\Source\\00114.JPEG\n",
      "C:\\Users\\Julian\\Documents\\Studium\\Delft\\Deep Learning\\data\\Source\\00115.JPEG\n",
      "C:\\Users\\Julian\\Documents\\Studium\\Delft\\Deep Learning\\data\\Source\\00116.JPEG\n",
      "'NoneType' object has no attribute 'shape'\n",
      "C:\\Users\\Julian\\Documents\\Studium\\Delft\\Deep Learning\\data\\Source\\00117.JPEG\n",
      "C:\\Users\\Julian\\Documents\\Studium\\Delft\\Deep Learning\\data\\Source\\00118.JPEG\n",
      "C:\\Users\\Julian\\Documents\\Studium\\Delft\\Deep Learning\\data\\Source\\00119.JPEG\n",
      "'NoneType' object has no attribute 'shape'\n",
      "C:\\Users\\Julian\\Documents\\Studium\\Delft\\Deep Learning\\data\\Source\\00120.JPEG\n",
      "C:\\Users\\Julian\\Documents\\Studium\\Delft\\Deep Learning\\data\\Source\\00121.JPEG\n",
      "'NoneType' object has no attribute 'shape'\n",
      "C:\\Users\\Julian\\Documents\\Studium\\Delft\\Deep Learning\\data\\Source\\00122.JPEG\n",
      "'NoneType' object has no attribute 'shape'\n",
      "C:\\Users\\Julian\\Documents\\Studium\\Delft\\Deep Learning\\data\\Source\\00123.JPEG\n",
      "C:\\Users\\Julian\\Documents\\Studium\\Delft\\Deep Learning\\data\\Source\\00124.JPEG\n",
      "'NoneType' object has no attribute 'shape'\n",
      "C:\\Users\\Julian\\Documents\\Studium\\Delft\\Deep Learning\\data\\Source\\00125.JPEG\n",
      "'NoneType' object has no attribute 'shape'\n",
      "C:\\Users\\Julian\\Documents\\Studium\\Delft\\Deep Learning\\data\\Source\\00126.JPEG\n",
      "C:\\Users\\Julian\\Documents\\Studium\\Delft\\Deep Learning\\data\\Source\\00127.JPEG\n",
      "'NoneType' object has no attribute 'shape'\n",
      "C:\\Users\\Julian\\Documents\\Studium\\Delft\\Deep Learning\\data\\Source\\00128.JPEG\n",
      "C:\\Users\\Julian\\Documents\\Studium\\Delft\\Deep Learning\\data\\Source\\00129.JPEG\n",
      "'NoneType' object has no attribute 'shape'\n",
      "C:\\Users\\Julian\\Documents\\Studium\\Delft\\Deep Learning\\data\\Source\\00130.JPEG\n",
      "'NoneType' object has no attribute 'shape'\n",
      "C:\\Users\\Julian\\Documents\\Studium\\Delft\\Deep Learning\\data\\Source\\00131.JPEG\n",
      "C:\\Users\\Julian\\Documents\\Studium\\Delft\\Deep Learning\\data\\Source\\00132.JPEG\n",
      "C:\\Users\\Julian\\Documents\\Studium\\Delft\\Deep Learning\\data\\Source\\00133.JPEG\n",
      "C:\\Users\\Julian\\Documents\\Studium\\Delft\\Deep Learning\\data\\Source\\00134.JPEG\n",
      "C:\\Users\\Julian\\Documents\\Studium\\Delft\\Deep Learning\\data\\Source\\00135.JPEG\n",
      "'NoneType' object has no attribute 'shape'\n",
      "C:\\Users\\Julian\\Documents\\Studium\\Delft\\Deep Learning\\data\\Source\\00136.JPEG\n",
      "'NoneType' object has no attribute 'shape'\n",
      "C:\\Users\\Julian\\Documents\\Studium\\Delft\\Deep Learning\\data\\Source\\00137.JPEG\n",
      "C:\\Users\\Julian\\Documents\\Studium\\Delft\\Deep Learning\\data\\Source\\00138.JPEG\n",
      "C:\\Users\\Julian\\Documents\\Studium\\Delft\\Deep Learning\\data\\Source\\00139.JPEG\n",
      "'NoneType' object has no attribute 'shape'\n",
      "C:\\Users\\Julian\\Documents\\Studium\\Delft\\Deep Learning\\data\\Source\\00140.JPEG\n",
      "'NoneType' object has no attribute 'shape'\n",
      "C:\\Users\\Julian\\Documents\\Studium\\Delft\\Deep Learning\\data\\Source\\00141.JPEG\n",
      "'NoneType' object has no attribute 'shape'\n",
      "C:\\Users\\Julian\\Documents\\Studium\\Delft\\Deep Learning\\data\\Source\\00142.JPEG\n",
      "C:\\Users\\Julian\\Documents\\Studium\\Delft\\Deep Learning\\data\\Source\\00143.JPEG\n",
      "C:\\Users\\Julian\\Documents\\Studium\\Delft\\Deep Learning\\data\\Source\\00144.JPEG\n",
      "HTTPConnectionPool(host='www.petnet.pt', port=80): Max retries exceeded with url: /files/images/pets/dc7306ad05549096fa80a7eb832c2cb1.jpg%0A (Caused by NewConnectionError('<urllib3.connection.HTTPConnection object at 0x0000011A3E553F60>: Failed to establish a new connection: [Errno 11001] getaddrinfo failed'))\n",
      "C:\\Users\\Julian\\Documents\\Studium\\Delft\\Deep Learning\\data\\Source\\00146.JPEG\n",
      "C:\\Users\\Julian\\Documents\\Studium\\Delft\\Deep Learning\\data\\Source\\00147.JPEG\n",
      "C:\\Users\\Julian\\Documents\\Studium\\Delft\\Deep Learning\\data\\Source\\00148.JPEG\n",
      "'NoneType' object has no attribute 'shape'\n",
      "C:\\Users\\Julian\\Documents\\Studium\\Delft\\Deep Learning\\data\\Source\\00149.JPEG\n",
      "'NoneType' object has no attribute 'shape'\n",
      "C:\\Users\\Julian\\Documents\\Studium\\Delft\\Deep Learning\\data\\Source\\00150.JPEG\n",
      "C:\\Users\\Julian\\Documents\\Studium\\Delft\\Deep Learning\\data\\Source\\00151.JPEG\n",
      "HTTPConnectionPool(host='www.asheracrescattery.com', port=80): Max retries exceeded with url: /Luna1.jpg%0A (Caused by NewConnectionError('<urllib3.connection.HTTPConnection object at 0x0000011A3E553DA0>: Failed to establish a new connection: [Errno 11001] getaddrinfo failed'))\n",
      "C:\\Users\\Julian\\Documents\\Studium\\Delft\\Deep Learning\\data\\Source\\00153.JPEG\n",
      "C:\\Users\\Julian\\Documents\\Studium\\Delft\\Deep Learning\\data\\Source\\00154.JPEG\n",
      "C:\\Users\\Julian\\Documents\\Studium\\Delft\\Deep Learning\\data\\Source\\00155.JPEG\n",
      "'NoneType' object has no attribute 'shape'\n",
      "C:\\Users\\Julian\\Documents\\Studium\\Delft\\Deep Learning\\data\\Source\\00156.JPEG\n"
     ]
    },
    {
     "name": "stdout",
     "output_type": "stream",
     "text": [
      "C:\\Users\\Julian\\Documents\\Studium\\Delft\\Deep Learning\\data\\Source\\00157.JPEG\n",
      "C:\\Users\\Julian\\Documents\\Studium\\Delft\\Deep Learning\\data\\Source\\00158.JPEG\n",
      "C:\\Users\\Julian\\Documents\\Studium\\Delft\\Deep Learning\\data\\Source\\00159.JPEG\n",
      "C:\\Users\\Julian\\Documents\\Studium\\Delft\\Deep Learning\\data\\Source\\00160.JPEG\n",
      "'NoneType' object has no attribute 'shape'\n",
      "C:\\Users\\Julian\\Documents\\Studium\\Delft\\Deep Learning\\data\\Source\\00161.JPEG\n",
      "'NoneType' object has no attribute 'shape'\n",
      "C:\\Users\\Julian\\Documents\\Studium\\Delft\\Deep Learning\\data\\Source\\00162.JPEG\n",
      "C:\\Users\\Julian\\Documents\\Studium\\Delft\\Deep Learning\\data\\Source\\00163.JPEG\n",
      "C:\\Users\\Julian\\Documents\\Studium\\Delft\\Deep Learning\\data\\Source\\00164.JPEG\n",
      "C:\\Users\\Julian\\Documents\\Studium\\Delft\\Deep Learning\\data\\Source\\00165.JPEG\n",
      "'NoneType' object has no attribute 'shape'\n",
      "C:\\Users\\Julian\\Documents\\Studium\\Delft\\Deep Learning\\data\\Source\\00166.JPEG\n",
      "C:\\Users\\Julian\\Documents\\Studium\\Delft\\Deep Learning\\data\\Source\\00167.JPEG\n",
      "C:\\Users\\Julian\\Documents\\Studium\\Delft\\Deep Learning\\data\\Source\\00168.JPEG\n",
      "'NoneType' object has no attribute 'shape'\n",
      "C:\\Users\\Julian\\Documents\\Studium\\Delft\\Deep Learning\\data\\Source\\00169.JPEG\n",
      "'NoneType' object has no attribute 'shape'\n",
      "C:\\Users\\Julian\\Documents\\Studium\\Delft\\Deep Learning\\data\\Source\\00170.JPEG\n",
      "C:\\Users\\Julian\\Documents\\Studium\\Delft\\Deep Learning\\data\\Source\\00171.JPEG\n",
      "C:\\Users\\Julian\\Documents\\Studium\\Delft\\Deep Learning\\data\\Source\\00172.JPEG\n",
      "C:\\Users\\Julian\\Documents\\Studium\\Delft\\Deep Learning\\data\\Source\\00173.JPEG\n",
      "C:\\Users\\Julian\\Documents\\Studium\\Delft\\Deep Learning\\data\\Source\\00174.JPEG\n",
      "C:\\Users\\Julian\\Documents\\Studium\\Delft\\Deep Learning\\data\\Source\\00175.JPEG\n",
      "'NoneType' object has no attribute 'shape'\n",
      "C:\\Users\\Julian\\Documents\\Studium\\Delft\\Deep Learning\\data\\Source\\00176.JPEG\n",
      "C:\\Users\\Julian\\Documents\\Studium\\Delft\\Deep Learning\\data\\Source\\00177.JPEG\n",
      "'NoneType' object has no attribute 'shape'\n",
      "C:\\Users\\Julian\\Documents\\Studium\\Delft\\Deep Learning\\data\\Source\\00178.JPEG\n",
      "C:\\Users\\Julian\\Documents\\Studium\\Delft\\Deep Learning\\data\\Source\\00179.JPEG\n",
      "'NoneType' object has no attribute 'shape'\n",
      "C:\\Users\\Julian\\Documents\\Studium\\Delft\\Deep Learning\\data\\Source\\00180.JPEG\n",
      "C:\\Users\\Julian\\Documents\\Studium\\Delft\\Deep Learning\\data\\Source\\00181.JPEG\n",
      "C:\\Users\\Julian\\Documents\\Studium\\Delft\\Deep Learning\\data\\Source\\00182.JPEG\n",
      "'NoneType' object has no attribute 'shape'\n",
      "C:\\Users\\Julian\\Documents\\Studium\\Delft\\Deep Learning\\data\\Source\\00183.JPEG\n"
     ]
    }
   ],
   "source": [
    "i = 0\n",
    "\n",
    "for num, url in enumerate(content): \n",
    "        \n",
    "    try:\n",
    "        img_data = requests.get(url, timeout = timeout).content\n",
    "        \n",
    "    except requests.exceptions.RequestException as e:\n",
    "        print(e)\n",
    "        continue\n",
    "        \n",
    "    try:\n",
    "        \n",
    "        i = str(num).zfill(5)\n",
    "        name = os.path.join(os.path.join(path,'Source'), str(i) + '.JPEG')\n",
    "    \n",
    "    \n",
    "        with open(name, 'wb') as handler:\n",
    "            handler.write(img_data)\n",
    "  \n",
    "\n",
    "        print(name)\n",
    "\n",
    "        img = cv2.imread(name)\n",
    "        \n",
    "    \n",
    "        img = cutting(img)\n",
    "\n",
    "        \n",
    "        res = cv2.resize(img, dsize=(256, 256), interpolation=cv2.INTER_AREA)\n",
    "\n",
    "        cv2.imwrite(os.path.join(dest_folder_path, str(i) + '.JPEG'),res)\n",
    "        \n",
    " \n",
    "    except Exception as e:\n",
    "        print(e)"
   ]
  },
  {
   "cell_type": "code",
   "execution_count": null,
   "metadata": {},
   "outputs": [],
   "source": [
    "ff.close()"
   ]
  },
  {
   "cell_type": "markdown",
   "metadata": {},
   "source": [
    "# Create Name File"
   ]
  },
  {
   "cell_type": "markdown",
   "metadata": {},
   "source": [
    "*First do manual cleaning*"
   ]
  },
  {
   "cell_type": "code",
   "execution_count": null,
   "metadata": {},
   "outputs": [],
   "source": [
    "user_input = input('Did you clean pics manualy? [y/n]:')"
   ]
  },
  {
   "cell_type": "code",
   "execution_count": null,
   "metadata": {},
   "outputs": [],
   "source": [
    "if user_input == 'y':\n",
    "    content = os.listdir(dest_folder_path)\n",
    "    #Create txt file to store image names\n",
    "    f= open(dest_folder_path + '\\\\' + end_folder_name + \"_img_names.txt\",\"w+\")\n",
    "    for num, address in enumerate(content):\n",
    "        i = str(num+1).zfill(5)\n",
    "        f.write(end_folder_name + '_' +  i + '.JPEG ' + str(neuron_number) + ' \\n')"
   ]
  },
  {
   "cell_type": "code",
   "execution_count": null,
   "metadata": {},
   "outputs": [],
   "source": [
    "f.close()"
   ]
  },
  {
   "cell_type": "code",
   "execution_count": null,
   "metadata": {},
   "outputs": [],
   "source": [
    "if clean_src:\n",
    "    p = os.path.join(path,'Source')\n",
    "    for item in os.listdir(p):\n",
    "        os.remove(os.path.join(p, item))"
   ]
  },
  {
   "cell_type": "raw",
   "metadata": {},
   "source": []
  }
 ],
 "metadata": {
  "kernelspec": {
   "display_name": "Python 3",
   "language": "python",
   "name": "python3"
  },
  "language_info": {
   "codemirror_mode": {
    "name": "ipython",
    "version": 3
   },
   "file_extension": ".py",
   "mimetype": "text/x-python",
   "name": "python",
   "nbconvert_exporter": "python",
   "pygments_lexer": "ipython3",
   "version": "3.7.3"
  }
 },
 "nbformat": 4,
 "nbformat_minor": 2
}
